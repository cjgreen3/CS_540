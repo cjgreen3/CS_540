{
 "cells": [
  {
   "cell_type": "code",
   "execution_count": 1,
   "metadata": {},
   "outputs": [
    {
     "name": "stdout",
     "output_type": "stream",
     "text": [
      "Colin Green\n"
     ]
    }
   ],
   "source": [
    "import os\n",
    "import numpy\n",
    "from classify import*\n",
    "cutoff = 1\n",
    "\n",
    "# vocab = create_vocabulary('./EasyFiles/', 2)\n",
    "# training_data = load_training_data(vocab, './EasyFiles/')\n",
    "# p_word_given_label(vocab, training_data, '2020')\n",
    "\n",
    "model = train('./corpus/training/', 2)"
   ]
  },
  {
   "cell_type": "code",
   "execution_count": 2,
   "metadata": {},
   "outputs": [
    {
     "name": "stdout",
     "output_type": "stream",
     "text": [
      "{'log p(y=2016|x)': -3916.458747858926, 'log p(y=2020|x)': -3906.351945884105, 'predicted y': '2020'}\n"
     ]
    }
   ],
   "source": [
    "print(classify(model, './corpus/test/2016/0.txt'))"
   ]
  },
  {
   "cell_type": "code",
   "execution_count": 3,
   "metadata": {},
   "outputs": [],
   "source": [
    "# model = train('./corpus/training/', 2)\n",
    "# driver1 = driver(model, './corpus/test/2016/')\n",
    "# driver2 = driver(model, './corpus/test/2020/')"
   ]
  },
  {
   "cell_type": "code",
   "execution_count": null,
   "metadata": {},
   "outputs": [],
   "source": []
  }
 ],
 "metadata": {
  "kernelspec": {
   "display_name": "Python 3",
   "language": "python",
   "name": "python3"
  },
  "language_info": {
   "codemirror_mode": {
    "name": "ipython",
    "version": 3
   },
   "file_extension": ".py",
   "mimetype": "text/x-python",
   "name": "python",
   "nbconvert_exporter": "python",
   "pygments_lexer": "ipython3",
   "version": "3.7.6"
  }
 },
 "nbformat": 4,
 "nbformat_minor": 4
}
