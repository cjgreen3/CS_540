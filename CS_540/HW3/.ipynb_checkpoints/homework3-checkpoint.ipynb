{
 "cells": [
  {
   "cell_type": "code",
   "execution_count": 1,
   "metadata": {},
   "outputs": [
    {
     "name": "stdout",
     "output_type": "stream",
     "text": [
      "2414\n",
      "1024\n",
      "-8.315174931741023e-17\n",
      "[[ 19.63628832  18.53935377  14.47183099 ... -17.13877382 -17.26429163\n",
      "  -27.28293289]\n",
      " [ 23.63628832  23.53935377  16.47183099 ... -32.13877382 -36.26429163\n",
      "  -40.28293289]\n",
      " [ 13.63628832  25.53935377  22.47183099 ... -43.13877382 -44.26429163\n",
      "  -43.28293289]\n",
      " ...\n",
      " [-59.36371168 -59.46064623 -54.52816901 ... 147.86122618 151.73570837\n",
      "  142.71706711]\n",
      " [-59.36371168 -59.46064623 -54.52816901 ... 200.86122618 204.73570837\n",
      "  200.71706711]\n",
      " [-57.36371168 -59.46064623 -53.52816901 ... 121.86122618 124.73570837\n",
      "  129.71706711]]\n"
     ]
    }
   ],
   "source": [
    "from scipy.linalg import eigh\n",
    "import numpy as np\n",
    "import matplotlib.pyplot as plt\n",
    "from pca import*\n",
    "\n",
    "\n",
    "dataset = load_and_center_dataset('YaleB_32x32.npy')\n",
    "print(len(dataset))\n",
    "print(len(dataset[0]))\n",
    "print(np.average(dataset))\n",
    "print(dataset)\n"
   ]
  },
  {
   "cell_type": "code",
   "execution_count": 2,
   "metadata": {},
   "outputs": [
    {
     "name": "stdout",
     "output_type": "stream",
     "text": [
      "[[ 4489.89086662  4389.34792897  3995.10495964 ... -1746.30867941\n",
      "  -1717.96935269 -1747.38102573]\n",
      " [ 4389.34792897  4494.33226746  4121.91863906 ... -1806.20485557\n",
      "  -1776.84081736 -1794.5663578 ]\n",
      " [ 3995.10495964  4121.91863906  4165.45776399 ... -1715.27680755\n",
      "  -1671.3253095  -1691.55397407]\n",
      " ...\n",
      " [-1746.30867941 -1806.20485557 -1715.27680755 ...  3756.33920877\n",
      "   3586.66741082  3219.28148259]\n",
      " [-1717.96935269 -1776.84081736 -1671.3253095  ...  3586.66741082\n",
      "   3596.68436881  3292.45606665]\n",
      " [-1747.38102573 -1794.5663578  -1691.55397407 ...  3219.28148259\n",
      "   3292.45606665  3497.1660824 ]]\n",
      "(1024, 1024)\n"
     ]
    }
   ],
   "source": [
    "y = get_covariance(dataset)\n",
    "print(y)\n",
    "print(y.shape)"
   ]
  },
  {
   "cell_type": "code",
   "execution_count": 3,
   "metadata": {
    "scrolled": true
   },
   "outputs": [
    {
     "name": "stdout",
     "output_type": "stream",
     "text": [
      "[[1369142.41612494       0.        ]\n",
      " [      0.         1341168.50476773]]\n",
      "[[-0.01304065 -0.0432441 ]\n",
      " [-0.01177219 -0.04342345]\n",
      " [-0.00905278 -0.04095089]\n",
      " ...\n",
      " [ 0.00148631  0.03622013]\n",
      " [ 0.00205216  0.0348093 ]\n",
      " [ 0.00305951  0.03330786]]\n"
     ]
    }
   ],
   "source": [
    "S = get_covariance(dataset)\n",
    "Lambda, U = get_eig(S, 2)\n",
    "print(Lambda)\n",
    "print(U)"
   ]
  },
  {
   "cell_type": "code",
   "execution_count": 4,
   "metadata": {},
   "outputs": [
    {
     "name": "stdout",
     "output_type": "stream",
     "text": [
      "Sum of Lamda:  3808937.0679505975\n",
      "[[1369142.41612494       0.        ]\n",
      " [      0.         1341168.50476773]]\n",
      "[[-0.01304065 -0.0432441 ]\n",
      " [-0.01177219 -0.04342345]\n",
      " [-0.00905278 -0.04095089]\n",
      " ...\n",
      " [ 0.00148631  0.03622013]\n",
      " [ 0.00205216  0.0348093 ]\n",
      " [ 0.00305951  0.03330786]]\n"
     ]
    }
   ],
   "source": [
    "Lambda, U = get_eig_perc(S, 0.07)\n",
    "print(Lambda) \n",
    "print(U)"
   ]
  },
  {
   "cell_type": "code",
   "execution_count": 5,
   "metadata": {},
   "outputs": [
    {
     "name": "stdout",
     "output_type": "stream",
     "text": [
      "[6.84122225 4.83901287 1.41736694 ... 8.75796534 7.45916035 5.4548656 ]\n"
     ]
    }
   ],
   "source": [
    "x = load_and_center_dataset('YaleB_32x32.npy')\n",
    "Lambda, U = get_eig(S, 2)\n",
    "projection = project_image(x[0], U)\n",
    "print(projection)"
   ]
  },
  {
   "cell_type": "code",
   "execution_count": null,
   "metadata": {},
   "outputs": [],
   "source": []
  }
 ],
 "metadata": {
  "kernelspec": {
   "display_name": "Python 3",
   "language": "python",
   "name": "python3"
  },
  "language_info": {
   "codemirror_mode": {
    "name": "ipython",
    "version": 3
   },
   "file_extension": ".py",
   "mimetype": "text/x-python",
   "name": "python",
   "nbconvert_exporter": "python",
   "pygments_lexer": "ipython3",
   "version": "3.7.6"
  }
 },
 "nbformat": 4,
 "nbformat_minor": 4
}
